{
  "nbformat": 4,
  "nbformat_minor": 0,
  "metadata": {
    "colab": {
      "name": "pytesseract_layoutlmv3.ipynb",
      "provenance": [],
      "collapsed_sections": []
    },
    "kernelspec": {
      "name": "python3",
      "display_name": "Python 3"
    },
    "language_info": {
      "name": "python"
    }
  },
  "cells": [
    {
      "cell_type": "markdown",
      "source": [
        "# Perform pdf ocr and save images\n",
        " \n",
        "**directory:** \n",
        "* /content/drive/Shareddrives/Data Science Team folder-open/Eurocoorp/\n",
        "\n",
        "**ImageDirectory**\n",
        "* Images/\n",
        "\n",
        "**Image Name format**\n",
        "* 100page-0.jpg \n",
        "* *pdf file name + pdfpage count*\n",
        "\n",
        "sample: */content/drive/Shareddrives/Data Science Team folder-open/Eurocoorp/Images/100page-0.jpg*"
      ],
      "metadata": {
        "id": "mSFYfsGP3zy8"
      }
    },
    {
      "cell_type": "code",
      "execution_count": null,
      "metadata": {
        "colab": {
          "base_uri": "https://localhost:8080/",
          "height": 1000
        },
        "id": "C1wcD_2iuPsF",
        "outputId": "13918edb-0d4d-431c-ba19-5f2b9f67ccf6"
      },
      "outputs": [
        {
          "output_type": "stream",
          "name": "stdout",
          "text": [
            "Reading package lists... Done\n",
            "Building dependency tree       \n",
            "Reading state information... Done\n",
            "The following package was automatically installed and is no longer required:\n",
            "  libnvidia-common-460\n",
            "Use 'sudo apt autoremove' to remove it.\n",
            "The following additional packages will be installed:\n",
            "  tesseract-ocr-eng tesseract-ocr-osd\n",
            "The following NEW packages will be installed:\n",
            "  tesseract-ocr tesseract-ocr-eng tesseract-ocr-osd\n",
            "0 upgraded, 3 newly installed, 0 to remove and 62 not upgraded.\n",
            "Need to get 4,795 kB of archives.\n",
            "After this operation, 15.8 MB of additional disk space will be used.\n",
            "Get:1 http://archive.ubuntu.com/ubuntu bionic/universe amd64 tesseract-ocr-eng all 4.00~git24-0e00fe6-1.2 [1,588 kB]\n",
            "Get:2 http://archive.ubuntu.com/ubuntu bionic/universe amd64 tesseract-ocr-osd all 4.00~git24-0e00fe6-1.2 [2,989 kB]\n",
            "Get:3 http://archive.ubuntu.com/ubuntu bionic/universe amd64 tesseract-ocr amd64 4.00~git2288-10f4998a-2 [218 kB]\n",
            "Fetched 4,795 kB in 1s (4,240 kB/s)\n",
            "debconf: unable to initialize frontend: Dialog\n",
            "debconf: (No usable dialog-like program is installed, so the dialog based frontend cannot be used. at /usr/share/perl5/Debconf/FrontEnd/Dialog.pm line 76, <> line 3.)\n",
            "debconf: falling back to frontend: Readline\n",
            "debconf: unable to initialize frontend: Readline\n",
            "debconf: (This frontend requires a controlling tty.)\n",
            "debconf: falling back to frontend: Teletype\n",
            "dpkg-preconfigure: unable to re-open stdin: \n",
            "Selecting previously unselected package tesseract-ocr-eng.\n",
            "(Reading database ... 155639 files and directories currently installed.)\n",
            "Preparing to unpack .../tesseract-ocr-eng_4.00~git24-0e00fe6-1.2_all.deb ...\n",
            "Unpacking tesseract-ocr-eng (4.00~git24-0e00fe6-1.2) ...\n",
            "Selecting previously unselected package tesseract-ocr-osd.\n",
            "Preparing to unpack .../tesseract-ocr-osd_4.00~git24-0e00fe6-1.2_all.deb ...\n",
            "Unpacking tesseract-ocr-osd (4.00~git24-0e00fe6-1.2) ...\n",
            "Selecting previously unselected package tesseract-ocr.\n",
            "Preparing to unpack .../tesseract-ocr_4.00~git2288-10f4998a-2_amd64.deb ...\n",
            "Unpacking tesseract-ocr (4.00~git2288-10f4998a-2) ...\n",
            "Setting up tesseract-ocr-osd (4.00~git24-0e00fe6-1.2) ...\n",
            "Setting up tesseract-ocr-eng (4.00~git24-0e00fe6-1.2) ...\n",
            "Setting up tesseract-ocr (4.00~git2288-10f4998a-2) ...\n",
            "Processing triggers for man-db (2.8.3-2ubuntu0.1) ...\n",
            "Looking in indexes: https://pypi.org/simple, https://us-python.pkg.dev/colab-wheels/public/simple/\n",
            "Collecting pytesseract\n",
            "  Downloading pytesseract-0.3.9-py2.py3-none-any.whl (14 kB)\n",
            "Collecting Pillow>=8.0.0\n",
            "  Downloading Pillow-9.2.0-cp37-cp37m-manylinux_2_17_x86_64.manylinux2014_x86_64.whl (3.1 MB)\n",
            "\u001b[K     |████████████████████████████████| 3.1 MB 4.8 MB/s \n",
            "\u001b[?25hRequirement already satisfied: packaging>=21.3 in /usr/local/lib/python3.7/dist-packages (from pytesseract) (21.3)\n",
            "Requirement already satisfied: pyparsing!=3.0.5,>=2.0.2 in /usr/local/lib/python3.7/dist-packages (from packaging>=21.3->pytesseract) (3.0.9)\n",
            "Installing collected packages: Pillow, pytesseract\n",
            "  Attempting uninstall: Pillow\n",
            "    Found existing installation: Pillow 7.1.2\n",
            "    Uninstalling Pillow-7.1.2:\n",
            "      Successfully uninstalled Pillow-7.1.2\n",
            "\u001b[31mERROR: pip's dependency resolver does not currently take into account all the packages that are installed. This behaviour is the source of the following dependency conflicts.\n",
            "albumentations 0.1.12 requires imgaug<0.2.7,>=0.2.5, but you have imgaug 0.2.9 which is incompatible.\u001b[0m\n",
            "Successfully installed Pillow-9.2.0 pytesseract-0.3.9\n"
          ]
        },
        {
          "output_type": "display_data",
          "data": {
            "application/vnd.colab-display-data+json": {
              "pip_warning": {
                "packages": [
                  "PIL"
                ]
              }
            }
          },
          "metadata": {}
        }
      ],
      "source": [
        "!sudo apt install tesseract-ocr\n",
        "!pip install pytesseract"
      ]
    },
    {
      "cell_type": "code",
      "source": [
        "from google.colab import drive\n",
        "drive.mount('/content/drive')"
      ],
      "metadata": {
        "colab": {
          "base_uri": "https://localhost:8080/"
        },
        "id": "CwQjBEhfqJ5V",
        "outputId": "d58c2b8b-a252-4d6b-d4ec-20770e3dcae1"
      },
      "execution_count": null,
      "outputs": [
        {
          "output_type": "stream",
          "name": "stdout",
          "text": [
            "Mounted at /content/drive\n"
          ]
        }
      ]
    },
    {
      "cell_type": "code",
      "source": [
        "# traversing all files\n",
        "folderpath = '/content/drive/Shareddrives/Data Science Team folder-open/Eurocoorp/'\n",
        "import os\n",
        "from os import walk\n",
        "\n",
        "filenames = next(walk(folderpath), (None, None, []))[2]\n",
        "len(filenames)"
      ],
      "metadata": {
        "colab": {
          "base_uri": "https://localhost:8080/"
        },
        "id": "NIGY-TTKs5bX",
        "outputId": "81019a50-d263-4070-ea71-4d1604803634"
      },
      "execution_count": null,
      "outputs": [
        {
          "output_type": "execute_result",
          "data": {
            "text/plain": [
              "242"
            ]
          },
          "metadata": {},
          "execution_count": 3
        }
      ]
    },
    {
      "cell_type": "code",
      "source": [
        "#create folder to save images\n",
        "imgpath = folderpath+ r'200dpi/' \n",
        "if not os.path.exists(imgpath):\n",
        "    os.makedirs(imgpath)\n",
        "    print(\"DONE\")"
      ],
      "metadata": {
        "id": "PVWN-cH2y25N",
        "colab": {
          "base_uri": "https://localhost:8080/"
        },
        "outputId": "d1ea7b91-062d-4dc0-c4ec-adc537214bed"
      },
      "execution_count": null,
      "outputs": [
        {
          "output_type": "stream",
          "name": "stdout",
          "text": [
            "DONE\n"
          ]
        }
      ]
    },
    {
      "cell_type": "code",
      "source": [
        "# converting all pdf files into images\n",
        "!pip install PyMuPDF\n",
        "import fitz"
      ],
      "metadata": {
        "colab": {
          "base_uri": "https://localhost:8080/"
        },
        "id": "ekno8iq_tzT6",
        "outputId": "90d08b89-7063-49e7-c245-babb686beffc"
      },
      "execution_count": null,
      "outputs": [
        {
          "output_type": "stream",
          "name": "stdout",
          "text": [
            "Looking in indexes: https://pypi.org/simple, https://us-python.pkg.dev/colab-wheels/public/simple/\n",
            "Collecting PyMuPDF\n",
            "  Downloading PyMuPDF-1.20.1-cp37-cp37m-manylinux_2_17_x86_64.manylinux2014_x86_64.whl (8.8 MB)\n",
            "\u001b[K     |████████████████████████████████| 8.8 MB 3.4 MB/s \n",
            "\u001b[?25hInstalling collected packages: PyMuPDF\n",
            "Successfully installed PyMuPDF-1.20.1\n"
          ]
        }
      ]
    },
    {
      "cell_type": "code",
      "source": [
        "from tqdm import tqdm\n",
        "for i in tqdm(range(len(filenames))):\n",
        "  pdffile = folderpath+filenames[i]\n",
        "  doc = fitz.open(pdffile)\n",
        "  for page in doc:\n",
        "    pix = page.get_pixmap(dpi = 200)\n",
        "    pix.save(imgpath+filenames[i][:-4]+\"page-%i.jpg\" % page.number)"
      ],
      "metadata": {
        "colab": {
          "base_uri": "https://localhost:8080/"
        },
        "id": "R9FVn0x5ATNt",
        "outputId": "b7b5196f-be4c-48ec-c534-c80373459f6a"
      },
      "execution_count": null,
      "outputs": [
        {
          "output_type": "stream",
          "name": "stderr",
          "text": [
            "100%|██████████| 242/242 [01:26<00:00,  2.80it/s]\n"
          ]
        }
      ]
    },
    {
      "cell_type": "code",
      "source": [
        "# Performing OCR using tessearct\n",
        "\n",
        "imgnames = next(walk(imgpath), (None, None, []))[2]\n",
        "imgnames[:10]"
      ],
      "metadata": {
        "colab": {
          "base_uri": "https://localhost:8080/"
        },
        "id": "mo-Xslv95rSH",
        "outputId": "d12d4b4c-95fc-4f85-d21f-ad06c06c3161"
      },
      "execution_count": null,
      "outputs": [
        {
          "output_type": "execute_result",
          "data": {
            "text/plain": [
              "['231page-0.jpg',\n",
              " '231page-1.jpg',\n",
              " '147page-0.jpg',\n",
              " '147page-1.jpg',\n",
              " '63page-0.jpg',\n",
              " '63page-1.jpg',\n",
              " '62page-0.jpg',\n",
              " '62page-1.jpg',\n",
              " '215page-0.jpg',\n",
              " '215page-1.jpg']"
            ]
          },
          "metadata": {},
          "execution_count": 15
        }
      ]
    },
    {
      "cell_type": "code",
      "source": [
        "# deleting the irrelevant png file extensions, if any\n",
        "import os, glob\n",
        "for filename in glob.glob(imgpath+\"*png\"):\n",
        "    os.remove(filename)\n",
        "    print(filename)"
      ],
      "metadata": {
        "id": "16sMsdYI6IsX"
      },
      "execution_count": null,
      "outputs": []
    },
    {
      "cell_type": "code",
      "source": [
        "import numpy as np\n",
        "import pytesseract\n",
        "from PIL import Image\n",
        "import pandas as pd\n",
        "import re"
      ],
      "metadata": {
        "id": "TMB0KjPCvgPx"
      },
      "execution_count": null,
      "outputs": []
    },
    {
      "cell_type": "code",
      "source": [
        "#create folder to save csv\n",
        "csvpath = folderpath+ r'Csv/' \n",
        "if not os.path.exists(csvpath):\n",
        "    os.makedirs(csvpath)\n",
        "    print(\"DONE\")\n"
      ],
      "metadata": {
        "id": "EG7A4LtwXyqk"
      },
      "execution_count": null,
      "outputs": []
    },
    {
      "cell_type": "code",
      "source": [
        "for i in tqdm(range(len(imgnames))):\n",
        "  path = imgpath +imgnames[i]\n",
        "  regex = r'[0-9]*$'\n",
        "  m =  re.findall(r'\\d+',path)\n",
        "  sample = pytesseract.image_to_data(Image.open(path),lang='eng', output_type='data.frame')\n",
        "  sample.to_csv(csvpath+m[0]+'page-'+m[1]+'.csv', index=False)"
      ],
      "metadata": {
        "colab": {
          "base_uri": "https://localhost:8080/"
        },
        "id": "IXj78coavgWv",
        "outputId": "f3d3acc0-5a7c-4c6f-c521-0b6d326cfe2a"
      },
      "execution_count": null,
      "outputs": [
        {
          "output_type": "stream",
          "name": "stderr",
          "text": [
            "100%|██████████| 473/473 [29:06<00:00,  3.69s/it]\n"
          ]
        }
      ]
    },
    {
      "cell_type": "markdown",
      "source": [
        "## Annotating the key values\n",
        "The keys can be labelled because they are fixed and the names do not change.  \n"
      ],
      "metadata": {
        "id": "slNhwrHxZP98"
      }
    },
    {
      "cell_type": "code",
      "source": [
        "# dict of keys to be annotated\n",
        "keys = {\n",
        "'PRODUTTORE':'produttore_key',\n",
        "'CLIENTE': 'cliente_key',\n",
        "'Unit. Loc.': 'unitloc_key',\n",
        "'CF Produttore':'cfproduttore_key',\n",
        "'Operatore':'operatore_key',\n",
        "'Email Cliente':'emailcliente_key',\n",
        "'Referente':'referente_key',\n",
        "'Email Produttore':'emailproduttore_key',\n",
        "'Telefono':'telefono_key',\n",
        "'Data Richiesta':'datarichiesta_key',\n",
        "'Orario richiesta':'orariorichiesta_key',\n",
        "'Mattina':'mattina_key',\n",
        "'Pomeriggio':'pomeriggio_key',\n",
        "'CER':'cer_key',\n",
        "'DESCRIZIONE':'descrizione_key',\n",
        "'SF':'sf_key',\n",
        "'Classe Pericolo:':'classpericolo_key',\n",
        "'Confezionamento:':'confezionamento_key',\n",
        "'Destinazione:':'destinazione_key',\n",
        "'Destino:':'destino_key'}\n"
      ],
      "metadata": {
        "id": "1FzOcdnwlSgg"
      },
      "execution_count": null,
      "outputs": []
    },
    {
      "cell_type": "code",
      "source": [
        "csvnames = next(walk(csvpath), (None, None, []))[2]"
      ],
      "metadata": {
        "id": "QSjt3BncLk11"
      },
      "execution_count": null,
      "outputs": []
    },
    {
      "cell_type": "code",
      "source": [
        "temp_csvpath = csvpath+csvnames[0]\n",
        "df = pd.read_csv(temp_csvpath)\n",
        "df.head()"
      ],
      "metadata": {
        "colab": {
          "base_uri": "https://localhost:8080/",
          "height": 270
        },
        "id": "dE6tIHK8moWK",
        "outputId": "c55090b7-78df-4a96-e0c5-575954a506df"
      },
      "execution_count": null,
      "outputs": [
        {
          "output_type": "execute_result",
          "data": {
            "text/plain": [
              "   level  page_num  block_num  par_num  line_num  word_num  left  top  width  \\\n",
              "0      1         1          0        0         0         0     0    0   1653   \n",
              "1      2         1          1        0         0         0   759   40    111   \n",
              "2      3         1          1        1         0         0   759   40    111   \n",
              "3      4         1          1        1         1         0   759   40    111   \n",
              "4      5         1          1        1         1         1   759   40    111   \n",
              "\n",
              "   height  conf text  \n",
              "0    2339    -1  NaN  \n",
              "1      43    -1  NaN  \n",
              "2      43    -1  NaN  \n",
              "3      43    -1  NaN  \n",
              "4      43    14   af  "
            ],
            "text/html": [
              "\n",
              "  <div id=\"df-1b8d52d9-73e5-4207-8c7c-bfdc3ecdce59\">\n",
              "    <div class=\"colab-df-container\">\n",
              "      <div>\n",
              "<style scoped>\n",
              "    .dataframe tbody tr th:only-of-type {\n",
              "        vertical-align: middle;\n",
              "    }\n",
              "\n",
              "    .dataframe tbody tr th {\n",
              "        vertical-align: top;\n",
              "    }\n",
              "\n",
              "    .dataframe thead th {\n",
              "        text-align: right;\n",
              "    }\n",
              "</style>\n",
              "<table border=\"1\" class=\"dataframe\">\n",
              "  <thead>\n",
              "    <tr style=\"text-align: right;\">\n",
              "      <th></th>\n",
              "      <th>level</th>\n",
              "      <th>page_num</th>\n",
              "      <th>block_num</th>\n",
              "      <th>par_num</th>\n",
              "      <th>line_num</th>\n",
              "      <th>word_num</th>\n",
              "      <th>left</th>\n",
              "      <th>top</th>\n",
              "      <th>width</th>\n",
              "      <th>height</th>\n",
              "      <th>conf</th>\n",
              "      <th>text</th>\n",
              "    </tr>\n",
              "  </thead>\n",
              "  <tbody>\n",
              "    <tr>\n",
              "      <th>0</th>\n",
              "      <td>1</td>\n",
              "      <td>1</td>\n",
              "      <td>0</td>\n",
              "      <td>0</td>\n",
              "      <td>0</td>\n",
              "      <td>0</td>\n",
              "      <td>0</td>\n",
              "      <td>0</td>\n",
              "      <td>1653</td>\n",
              "      <td>2339</td>\n",
              "      <td>-1</td>\n",
              "      <td>NaN</td>\n",
              "    </tr>\n",
              "    <tr>\n",
              "      <th>1</th>\n",
              "      <td>2</td>\n",
              "      <td>1</td>\n",
              "      <td>1</td>\n",
              "      <td>0</td>\n",
              "      <td>0</td>\n",
              "      <td>0</td>\n",
              "      <td>759</td>\n",
              "      <td>40</td>\n",
              "      <td>111</td>\n",
              "      <td>43</td>\n",
              "      <td>-1</td>\n",
              "      <td>NaN</td>\n",
              "    </tr>\n",
              "    <tr>\n",
              "      <th>2</th>\n",
              "      <td>3</td>\n",
              "      <td>1</td>\n",
              "      <td>1</td>\n",
              "      <td>1</td>\n",
              "      <td>0</td>\n",
              "      <td>0</td>\n",
              "      <td>759</td>\n",
              "      <td>40</td>\n",
              "      <td>111</td>\n",
              "      <td>43</td>\n",
              "      <td>-1</td>\n",
              "      <td>NaN</td>\n",
              "    </tr>\n",
              "    <tr>\n",
              "      <th>3</th>\n",
              "      <td>4</td>\n",
              "      <td>1</td>\n",
              "      <td>1</td>\n",
              "      <td>1</td>\n",
              "      <td>1</td>\n",
              "      <td>0</td>\n",
              "      <td>759</td>\n",
              "      <td>40</td>\n",
              "      <td>111</td>\n",
              "      <td>43</td>\n",
              "      <td>-1</td>\n",
              "      <td>NaN</td>\n",
              "    </tr>\n",
              "    <tr>\n",
              "      <th>4</th>\n",
              "      <td>5</td>\n",
              "      <td>1</td>\n",
              "      <td>1</td>\n",
              "      <td>1</td>\n",
              "      <td>1</td>\n",
              "      <td>1</td>\n",
              "      <td>759</td>\n",
              "      <td>40</td>\n",
              "      <td>111</td>\n",
              "      <td>43</td>\n",
              "      <td>14</td>\n",
              "      <td>af</td>\n",
              "    </tr>\n",
              "  </tbody>\n",
              "</table>\n",
              "</div>\n",
              "      <button class=\"colab-df-convert\" onclick=\"convertToInteractive('df-1b8d52d9-73e5-4207-8c7c-bfdc3ecdce59')\"\n",
              "              title=\"Convert this dataframe to an interactive table.\"\n",
              "              style=\"display:none;\">\n",
              "        \n",
              "  <svg xmlns=\"http://www.w3.org/2000/svg\" height=\"24px\"viewBox=\"0 0 24 24\"\n",
              "       width=\"24px\">\n",
              "    <path d=\"M0 0h24v24H0V0z\" fill=\"none\"/>\n",
              "    <path d=\"M18.56 5.44l.94 2.06.94-2.06 2.06-.94-2.06-.94-.94-2.06-.94 2.06-2.06.94zm-11 1L8.5 8.5l.94-2.06 2.06-.94-2.06-.94L8.5 2.5l-.94 2.06-2.06.94zm10 10l.94 2.06.94-2.06 2.06-.94-2.06-.94-.94-2.06-.94 2.06-2.06.94z\"/><path d=\"M17.41 7.96l-1.37-1.37c-.4-.4-.92-.59-1.43-.59-.52 0-1.04.2-1.43.59L10.3 9.45l-7.72 7.72c-.78.78-.78 2.05 0 2.83L4 21.41c.39.39.9.59 1.41.59.51 0 1.02-.2 1.41-.59l7.78-7.78 2.81-2.81c.8-.78.8-2.07 0-2.86zM5.41 20L4 18.59l7.72-7.72 1.47 1.35L5.41 20z\"/>\n",
              "  </svg>\n",
              "      </button>\n",
              "      \n",
              "  <style>\n",
              "    .colab-df-container {\n",
              "      display:flex;\n",
              "      flex-wrap:wrap;\n",
              "      gap: 12px;\n",
              "    }\n",
              "\n",
              "    .colab-df-convert {\n",
              "      background-color: #E8F0FE;\n",
              "      border: none;\n",
              "      border-radius: 50%;\n",
              "      cursor: pointer;\n",
              "      display: none;\n",
              "      fill: #1967D2;\n",
              "      height: 32px;\n",
              "      padding: 0 0 0 0;\n",
              "      width: 32px;\n",
              "    }\n",
              "\n",
              "    .colab-df-convert:hover {\n",
              "      background-color: #E2EBFA;\n",
              "      box-shadow: 0px 1px 2px rgba(60, 64, 67, 0.3), 0px 1px 3px 1px rgba(60, 64, 67, 0.15);\n",
              "      fill: #174EA6;\n",
              "    }\n",
              "\n",
              "    [theme=dark] .colab-df-convert {\n",
              "      background-color: #3B4455;\n",
              "      fill: #D2E3FC;\n",
              "    }\n",
              "\n",
              "    [theme=dark] .colab-df-convert:hover {\n",
              "      background-color: #434B5C;\n",
              "      box-shadow: 0px 1px 3px 1px rgba(0, 0, 0, 0.15);\n",
              "      filter: drop-shadow(0px 1px 2px rgba(0, 0, 0, 0.3));\n",
              "      fill: #FFFFFF;\n",
              "    }\n",
              "  </style>\n",
              "\n",
              "      <script>\n",
              "        const buttonEl =\n",
              "          document.querySelector('#df-1b8d52d9-73e5-4207-8c7c-bfdc3ecdce59 button.colab-df-convert');\n",
              "        buttonEl.style.display =\n",
              "          google.colab.kernel.accessAllowed ? 'block' : 'none';\n",
              "\n",
              "        async function convertToInteractive(key) {\n",
              "          const element = document.querySelector('#df-1b8d52d9-73e5-4207-8c7c-bfdc3ecdce59');\n",
              "          const dataTable =\n",
              "            await google.colab.kernel.invokeFunction('convertToInteractive',\n",
              "                                                     [key], {});\n",
              "          if (!dataTable) return;\n",
              "\n",
              "          const docLinkHtml = 'Like what you see? Visit the ' +\n",
              "            '<a target=\"_blank\" href=https://colab.research.google.com/notebooks/data_table.ipynb>data table notebook</a>'\n",
              "            + ' to learn more about interactive tables.';\n",
              "          element.innerHTML = '';\n",
              "          dataTable['output_type'] = 'display_data';\n",
              "          await google.colab.output.renderOutput(dataTable, element);\n",
              "          const docLink = document.createElement('div');\n",
              "          docLink.innerHTML = docLinkHtml;\n",
              "          element.appendChild(docLink);\n",
              "        }\n",
              "      </script>\n",
              "    </div>\n",
              "  </div>\n",
              "  "
            ]
          },
          "metadata": {},
          "execution_count": 92
        }
      ]
    },
    {
      "cell_type": "code",
      "source": [
        "#Creating new directory to store updated csv files.\n",
        "\n",
        "csvUpdatedpath = csvpath+ 'Updated/' \n",
        "if not os.path.exists(csvUpdatedpath):\n",
        "    os.makedirs(csvUpdatedpath)\n",
        "    print(\"DONE\")"
      ],
      "metadata": {
        "colab": {
          "base_uri": "https://localhost:8080/"
        },
        "id": "JhXNjV69sinE",
        "outputId": "baec9c9d-337b-4525-b4fd-4178a2ddd61c"
      },
      "execution_count": null,
      "outputs": [
        {
          "output_type": "stream",
          "name": "stdout",
          "text": [
            "DONE\n"
          ]
        }
      ]
    },
    {
      "cell_type": "code",
      "source": [
        "csvpath"
      ],
      "metadata": {
        "colab": {
          "base_uri": "https://localhost:8080/",
          "height": 36
        },
        "id": "YqPI5n-EwG7q",
        "outputId": "87510799-94b4-4446-a4af-087dc0719235"
      },
      "execution_count": null,
      "outputs": [
        {
          "output_type": "execute_result",
          "data": {
            "text/plain": [
              "'/content/drive/Shareddrives/Data Science Team folder-open/Eurocoorp/Csv/'"
            ],
            "application/vnd.google.colaboratory.intrinsic+json": {
              "type": "string"
            }
          },
          "metadata": {},
          "execution_count": 93
        }
      ]
    },
    {
      "cell_type": "code",
      "source": [
        "from tqdm import tqdm\n",
        "for name in tqdm(range(len(csvnames))):\n",
        "  #creating df for each csv \n",
        "  temp_csvpath = csvpath+csvnames[name]\n",
        "  df = pd.read_csv(temp_csvpath)\n",
        "  l = df.shape[0]\n",
        "  #initializing new column with default value as 'others'\n",
        "  df['label'] = 'others'\n",
        "\n",
        "  for i in range(l):\n",
        "    #Handling nan values\n",
        "    if pd.isna(df['text'].iat[i]) == True:\n",
        "      pass\n",
        "      # df['label'].iat[i] = 'others'\n",
        "    \n",
        "    #Handling double valued keys like - 'CF Produttore'\n",
        "    else:\n",
        "      #for CF Produttore\n",
        "      if df['text'].iat[i] in ['CF']:\n",
        "        if df['text'].iat[i+1] in ['Produttore']:\n",
        "          df['label'].iat[i], df['label'].iat[i+1] = 'cfproduttore_key','cfproduttore_key'\n",
        "      #for Classe Pericolo\n",
        "      if df['text'].iat[i] in ['Classe']:\n",
        "        if df['text'].iat[i+1] in ['Pericolo']:\n",
        "          df['label'].iat[i], df['label'].iat[i+1] = 'classpericolo_key','classpericolo_key'\n",
        "      #for Data Richiesta\n",
        "      if df['text'].iat[i] in ['Data']:\n",
        "        if df['text'].iat[i+1] in ['Richiesta']:\n",
        "          df['label'].iat[i], df['label'].iat[i+1] = 'datarichiesta_key','datarichiesta_key'\n",
        "      #for Email Cliente\n",
        "      if df['text'].iat[i] in ['Email']:\n",
        "        if df['text'].iat[i+1] in ['Cliente']:\n",
        "          df['label'].iat[i], df['label'].iat[i+1] = 'emailcliente_key','emailcliente_key'\n",
        "      #for Email Produttore\n",
        "      if df['text'].iat[i] in ['Email']:\n",
        "        if df['text'].iat[i+1] in ['Produttore']:\n",
        "          df['label'].iat[i], df['label'].iat[i+1] = 'emailproduttore_key','emailproduttore_key'\n",
        "      #for Orario richiesta\n",
        "      if df['text'].iat[i] in ['Orario']:\n",
        "        if df['text'].iat[i+1] in ['richiesta']:\n",
        "          df['label'].iat[i], df['label'].iat[i+1] = 'orariorichiesta_key','orariorichiesta_key'\n",
        "      #for Unit. Loc. \n",
        "      if df['text'].iat[i] in ['Unit.']:\n",
        "        if df['text'].iat[i+1] in ['Loc.']:\n",
        "          df['label'].iat[i], df['label'].iat[i+1] = 'unitloc_key','unitloc_key'\n",
        "    \n",
        "    # Handling remaining keys\n",
        "    for key in keys:\n",
        "      if df['text'].iat[i] == key:\n",
        "        df['label'].iat[i]= keys.get(key)\n",
        "        pass\n",
        "  df.to_csv(csvpath+ 'Updated/'+ csvnames[name])"
      ],
      "metadata": {
        "colab": {
          "base_uri": "https://localhost:8080/"
        },
        "id": "a7r0LiEsMuzs",
        "outputId": "55257bf0-162f-46bb-8e09-30a0d067ec47"
      },
      "execution_count": null,
      "outputs": [
        {
          "output_type": "stream",
          "name": "stderr",
          "text": [
            "100%|██████████| 473/473 [00:34<00:00, 13.87it/s]\n"
          ]
        }
      ]
    },
    {
      "cell_type": "code",
      "source": [
        "df.to_csv('/content/temp2.csv') #/content/temp.csv"
      ],
      "metadata": {
        "id": "xbtLJeHZiNrx"
      },
      "execution_count": null,
      "outputs": []
    },
    {
      "cell_type": "code",
      "source": [
        "df.to_csv('/content/temp.csv')"
      ],
      "metadata": {
        "id": "3wIyFp8COZdc"
      },
      "execution_count": null,
      "outputs": []
    },
    {
      "cell_type": "code",
      "source": [
        "#iterating the csv files:\n",
        "csvnames = next(walk(csvpath), (None, None, []))[2]\n",
        "for i in tqdm(range(len(csvnames))):\n",
        "  temp_csvpath = csvpath+ csvnames[0]\n",
        "  df = pd.read_csv(temp_csvpath)\n",
        "  df.head()\n",
        "  break"
      ],
      "metadata": {
        "id": "BeXBMft-vgTD",
        "colab": {
          "base_uri": "https://localhost:8080/"
        },
        "outputId": "ec0eaf20-6b17-4398-df03-4a5f3e057a93"
      },
      "execution_count": null,
      "outputs": [
        {
          "output_type": "stream",
          "name": "stderr",
          "text": [
            "  0%|          | 0/474 [00:00<?, ?it/s]\n"
          ]
        }
      ]
    },
    {
      "cell_type": "code",
      "source": [
        ""
      ],
      "metadata": {
        "id": "vpmwn1N52GU2"
      },
      "execution_count": null,
      "outputs": []
    }
  ]
}