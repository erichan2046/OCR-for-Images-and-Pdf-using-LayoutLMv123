{
 "cells": [
  {
   "cell_type": "markdown",
   "metadata": {},
   "source": [
    "### Preparing the key value pairs from multiple files"
   ]
  },
  {
   "cell_type": "code",
   "execution_count": 4,
   "metadata": {},
   "outputs": [
    {
     "name": "stdout",
     "output_type": "stream",
     "text": [
      "Collecting tabulate\n",
      "  Using cached tabulate-0.8.9-py3-none-any.whl (25 kB)\n",
      "Installing collected packages: tabulate\n",
      "Successfully installed tabulate-0.8.9\n"
     ]
    },
    {
     "name": "stderr",
     "output_type": "stream",
     "text": [
      "WARNING: Ignoring invalid distribution - (c:\\programdata\\anaconda3\\lib\\site-packages)\n",
      "WARNING: Ignoring invalid distribution -equests (c:\\programdata\\anaconda3\\lib\\site-packages)\n",
      "WARNING: Ignoring invalid distribution - (c:\\programdata\\anaconda3\\lib\\site-packages)\n",
      "WARNING: Ignoring invalid distribution -equests (c:\\programdata\\anaconda3\\lib\\site-packages)\n",
      "WARNING: Ignoring invalid distribution - (c:\\programdata\\anaconda3\\lib\\site-packages)\n",
      "WARNING: Ignoring invalid distribution -equests (c:\\programdata\\anaconda3\\lib\\site-packages)\n",
      "WARNING: Ignoring invalid distribution - (c:\\programdata\\anaconda3\\lib\\site-packages)\n",
      "WARNING: Ignoring invalid distribution -equests (c:\\programdata\\anaconda3\\lib\\site-packages)\n",
      "WARNING: Ignoring invalid distribution - (c:\\programdata\\anaconda3\\lib\\site-packages)\n",
      "WARNING: Ignoring invalid distribution -equests (c:\\programdata\\anaconda3\\lib\\site-packages)\n",
      "WARNING: Ignoring invalid distribution - (c:\\programdata\\anaconda3\\lib\\site-packages)\n",
      "WARNING: Ignoring invalid distribution -equests (c:\\programdata\\anaconda3\\lib\\site-packages)\n",
      "WARNING: Ignoring invalid distribution - (c:\\programdata\\anaconda3\\lib\\site-packages)\n",
      "WARNING: Ignoring invalid distribution -equests (c:\\programdata\\anaconda3\\lib\\site-packages)\n"
     ]
    }
   ],
   "source": [
    "!pip install tabulate"
   ]
  },
  {
   "cell_type": "code",
   "execution_count": 5,
   "metadata": {},
   "outputs": [],
   "source": [
    "import pandas as pd\n",
    "from tabulate import tabulate"
   ]
  },
  {
   "cell_type": "code",
   "execution_count": 3,
   "metadata": {},
   "outputs": [],
   "source": [
    "df1 = pd.read_csv('Esempio ordini\\\\CAMBIO CASSONE SPAZIO SOC COOP PISTOIA 19.01.2022\\\\keyValues.csv')\n",
    "df2 = pd.read_csv('Esempio ordini\\\\ORDINE DI RITIRO FATTO INSIEME 17.02.22\\keyValues.csv')\n",
    "df3 = pd.read_csv('Esempio ordini\\\\RITIRO 2G2 PER EURO 20.01.2022\\\\keyValues.csv')\n",
    "df4 = pd.read_csv('Esempio ordini\\\\RITIRO ALSTOM SISEA ECOVIP 20.01.22\\\\keyValues.csv')\n",
    "df5 = pd.read_csv('Esempio ordini\\\\RITIRO ALSTOM SISEA PRODURRE PULITO 161002  20.01.22\\\\keyValues.csv')\n",
    "df6 = pd.read_csv('Esempio ordini\\\\TRASPORTO MERCE wenda\\\\keyValues.csv')"
   ]
  },
  {
   "cell_type": "code",
   "execution_count": 18,
   "metadata": {},
   "outputs": [
    {
     "name": "stdout",
     "output_type": "stream",
     "text": [
      "\n",
      " Dataframe details:  Index(['key', 'value'], dtype='object') (36, 2) COUNT:  0\n",
      "+---+-------------+-----------------------------------------+\n",
      "| 0 | 'PRODUTTORE | 'SPAZIO SOC COOP                        |\n",
      "| 1 | 'CLIENTE    | 'SPAZIO SOC COOP                        |\n",
      "| 2 | 'Unit. Loc. | 'Via S. Agostino, 2 51100 PISTOIA (PT)  |\n",
      "| 3 | 'Operatore  | 'Francesca Buffolino - Mob. 327 6613420 |\n",
      "| 4 | 'Referente  | 'MICHELE                                |\n",
      "+---+-------------+-----------------------------------------+\n",
      "\n",
      " Dataframe details:  Index(['key', 'value'], dtype='object') (47, 2) COUNT:  1\n",
      "+---+---------------+--------------------------------------------------------+\n",
      "| 0 | 'PER AUTISTA: | 'CHIAMA IL CLIENTE ALMENO MEZZORA PRIMA DEL TUO ARRIVO |\n",
      "| 1 | 'PRODUTTORE   | 'ALSTOM FERROVIA SPA                                   |\n",
      "| 2 | 'CLIENTE      | 'SISEA SRL                                             |\n",
      "| 3 | 'Unit. Loc.   | 'FIRENZE - Via del Romito 7 50134 FIRENZE (FI)         |\n",
      "| 4 | 'Operatore    | 'Guergana Stoyanova - Mob. 346 8704488                 |\n",
      "+---+---------------+--------------------------------------------------------+\n",
      "\n",
      " Dataframe details:  Index(['key', 'value'], dtype='object') (68, 2) COUNT:  2\n",
      "+---+-------------+------------------------------------+\n",
      "| 0 | 'CER        | '160211                            |\n",
      "| 1 | 'ADR        | 'NOT_SELECTED                      |\n",
      "| 2 | 'PRODUTTORE | '2G2 SRL                           |\n",
      "| 3 | 'CLIENTE    | '2G2 SRL                           |\n",
      "| 4 | 'Unit. Loc. | 'VIA VOLTA 29 50041 CALENZANO (FI) |\n",
      "+---+-------------+------------------------------------+\n",
      "\n",
      " Dataframe details:  Index(['key', 'value'], dtype='object') (64, 2) COUNT:  3\n",
      "+---+----------------+------------------------------------------------+\n",
      "| 0 | 'PRODUTTORE    | 'ALSTOM FERROVIA SPA                           |\n",
      "| 1 | 'CLIENTE       | 'SISEA SRL                                     |\n",
      "| 2 | 'Destinazione: | 'ECOVIP                                        |\n",
      "| 3 | 'Unit. Loc.    | 'FIRENZE - Via del Romito 7 50134 FIRENZE (FI) |\n",
      "| 4 | 'Operatore     | 'Guergana Stoyanova - Mob. 346 8704488         |\n",
      "+---+----------------+------------------------------------------------+\n",
      "\n",
      " Dataframe details:  Index(['key', 'value'], dtype='object') (34, 2) COUNT:  4\n",
      "+---+-------------+------------------------------------------------+\n",
      "| 0 | 'PRODUTTORE | 'ALSTOM FERROVIA SPA                           |\n",
      "| 1 | 'CLIENTE    | 'SISEA SRL                                     |\n",
      "| 2 | 'Unit. Loc. | 'FIRENZE - Via del Romito 7 50134 FIRENZE (FI) |\n",
      "| 3 | 'Operatore  | 'Guergana Stoyanova - Mob. 346 8704488         |\n",
      "| 4 | 'Referente  | 'Luca Spadi                                    |\n",
      "+---+-------------+------------------------------------------------+\n",
      "\n",
      " Dataframe details:  Index(['key', 'value'], dtype='object') (35, 2) COUNT:  5\n",
      "+---+------------------+-------------------------------------------------------------------------------------------------------+\n",
      "| 0 | 'PER AUTISTA:    | 'ALL'ARRIVO CHIAMA I REFERENTI:                                                                       |\n",
      "| 1 | 'Marco Ottobelli | '3398158402                                                                                           |\n",
      "| 2 | 'CLIENTE         | 'AFE IMPEX SRL                                                                                        |\n",
      "| 3 | 'Unit. Loc.      | 'PISTOIA - c/o AGRIBIOS SOC COOP AGRIC. in Via Buraccia e Pacinotta13// 51100 CHIESINA MONTALESE (PT) |\n",
      "| 4 | 'Operatore       | 'Guergana Stoyanova - Mob. 346 8704488                                                                |\n",
      "+---+------------------+-------------------------------------------------------------------------------------------------------+\n"
     ]
    }
   ],
   "source": [
    "\n",
    "dfList = [df1, df2, df3, df4, df5, df6]\n",
    "count = 0\n",
    "for df in dfList:\n",
    "    print('\\n', \"Dataframe details: \", df.columns, df.shape, 'COUNT: ', count)\n",
    "    print(tabulate(df.head(), tablefmt='psql'))\n",
    "    count +=1"
   ]
  },
  {
   "cell_type": "markdown",
   "metadata": {},
   "source": [
    "#### Gathering the key values now:"
   ]
  },
  {
   "cell_type": "code",
   "execution_count": 171,
   "metadata": {},
   "outputs": [
    {
     "data": {
      "text/plain": [
       "1          'CLIENTE \n",
       "2       'Unit. Loc. \n",
       "3        'Operatore \n",
       "4        'Referente \n",
       "5    'CF Produttore \n",
       "Name: key, dtype: object"
      ]
     },
     "execution_count": 171,
     "metadata": {},
     "output_type": "execute_result"
    }
   ],
   "source": [
    "dfList[0].key[:5]"
   ]
  },
  {
   "cell_type": "code",
   "execution_count": 90,
   "metadata": {},
   "outputs": [
    {
     "data": {
      "text/plain": [
       "array([[\"'PRODUTTORE \", \"'SPAZIO SOC COOP \"],\n",
       "       [\"'CLIENTE \", \"'SPAZIO SOC COOP \"],\n",
       "       [\"'Unit. Loc. \", \"'Via S. Agostino, 2 51100 PISTOIA (PT) \"],\n",
       "       [\"'Operatore \", \"'Francesca Buffolino - Mob. 327 6613420 \"],\n",
       "       [\"'Referente \", \"'MICHELE \"]], dtype=object)"
      ]
     },
     "execution_count": 90,
     "metadata": {},
     "output_type": "execute_result"
    }
   ],
   "source": [
    "dfList[0].values[:5]"
   ]
  },
  {
   "cell_type": "code",
   "execution_count": 35,
   "metadata": {},
   "outputs": [
    {
     "name": "stdout",
     "output_type": "stream",
     "text": [
      "Number of keys:  36\n",
      "Number of keys:  47\n",
      "Number of keys:  68\n",
      "Number of keys:  64\n",
      "Number of keys:  34\n",
      "Number of keys:  35\n"
     ]
    }
   ],
   "source": [
    "list_keys = []\n",
    "for i in dfList:\n",
    "    list_keys.append(i.key)\n",
    "\n",
    "for i in list_keys:\n",
    "    print(\"Number of keys: \",len(i))"
   ]
  },
  {
   "cell_type": "markdown",
   "metadata": {},
   "source": [
    "Lets count the number of times each keys occur"
   ]
  },
  {
   "cell_type": "code",
   "execution_count": 42,
   "metadata": {},
   "outputs": [],
   "source": [
    "dict_key_count = {}\n",
    "for df in list_keys:\n",
    "    for key in df:\n",
    "        key = (key[1:]).strip()\n",
    "        if key in dict_key_count.keys():\n",
    "            dict_key_count[key] +=1\n",
    "        else:\n",
    "            dict_key_count[key] = 0\n",
    "        \n"
   ]
  },
  {
   "cell_type": "code",
   "execution_count": 70,
   "metadata": {},
   "outputs": [
    {
     "data": {
      "text/plain": [
       "43"
      ]
     },
     "execution_count": 70,
     "metadata": {},
     "output_type": "execute_result"
    }
   ],
   "source": [
    "len(dict_key_count)"
   ]
  },
  {
   "cell_type": "markdown",
   "metadata": {},
   "source": [
    "Keys apprearing more than 5 times. But this is not useful as a key word can be repreated multiple times. Hence commenting code"
   ]
  },
  {
   "cell_type": "code",
   "execution_count": 77,
   "metadata": {},
   "outputs": [
    {
     "name": "stdout",
     "output_type": "stream",
     "text": [
      "CLIENTE\n",
      "Unit. Loc.\n",
      "Operatore\n",
      "Referente\n",
      "CF Produttore\n",
      "Telefono\n",
      "Email Cliente\n",
      "Data Richiesta\n",
      "Orario richiesta\n",
      "ORA PARTENZA DA EUROCORPORATION:\n",
      "Email Produttore\n",
      "ORA RIENTRO IN EUROCORPORATION:\n",
      "ZTL\n",
      "Dalle\n",
      "Alle\n",
      "ORA DI INIZIO:\n",
      "ORA DI FINE:\n",
      "ORA ARRIVO:\n",
      "ORA PARTENZA:\n",
      "SI\n",
      "NO\n",
      "FIRMA PER PRESA VISIONE\n",
      "ADR\n",
      "Classe Pericolo:\n",
      "Destino:\n",
      "Confezionamento:\n",
      "Destinazione:\n",
      "Solido non pulverulento\n"
     ]
    },
    {
     "data": {
      "text/plain": [
       "28"
      ]
     },
     "execution_count": 77,
     "metadata": {},
     "output_type": "execute_result"
    }
   ],
   "source": [
    "# count = 0\n",
    "# for key in dict_key_count:\n",
    "#     if dict_key_count[key]>=5:\n",
    "#         count +=1\n",
    "#         print(key)\n",
    "# count\n"
   ]
  },
  {
   "cell_type": "markdown",
   "metadata": {},
   "source": [
    "Finding keys that occur in each of the pdf's key value pair"
   ]
  },
  {
   "cell_type": "code",
   "execution_count": 97,
   "metadata": {},
   "outputs": [
    {
     "data": {
      "text/plain": [
       "24"
      ]
     },
     "execution_count": 97,
     "metadata": {},
     "output_type": "execute_result"
    }
   ],
   "source": [
    "result = set(list_keys[0])\n",
    "for s in list_keys[1:]:\n",
    "    result.intersection_update(s)\n",
    "len(result)"
   ]
  },
  {
   "cell_type": "code",
   "execution_count": 99,
   "metadata": {},
   "outputs": [
    {
     "data": {
      "text/plain": [
       "[\"'Orario richiesta \",\n",
       " \"'ORA PARTENZA: \",\n",
       " \"'ORA DI FINE: \",\n",
       " \"'SI \",\n",
       " \"'Destino: \",\n",
       " \"'ADR \",\n",
       " \"'CF Produttore \",\n",
       " \"'Destinazione: \",\n",
       " \"'Referente \",\n",
       " \"'Operatore \",\n",
       " \"'Classe Pericolo: \",\n",
       " \"'Unit. Loc. \",\n",
       " \"'Email Cliente \",\n",
       " \"'Email Produttore \",\n",
       " \"'ORA PARTENZA DA EUROCORPORATION: \",\n",
       " \"'Confezionamento: \",\n",
       " \"'CLIENTE \",\n",
       " \"'FIRMA PER PRESA VISIONE \",\n",
       " \"'Telefono \",\n",
       " \"'NO \",\n",
       " \"'Alle \",\n",
       " \"'ORA RIENTRO IN EUROCORPORATION: \",\n",
       " \"'Data Richiesta \",\n",
       " \"'ORA ARRIVO: \"]"
      ]
     },
     "execution_count": 99,
     "metadata": {},
     "output_type": "execute_result"
    }
   ],
   "source": [
    "result = list(result)\n",
    "result"
   ]
  },
  {
   "cell_type": "markdown",
   "metadata": {},
   "source": [
    "Checking one by one if the keys are present in the dataframes"
   ]
  },
  {
   "cell_type": "code",
   "execution_count": 130,
   "metadata": {},
   "outputs": [
    {
     "name": "stdout",
     "output_type": "stream",
     "text": [
      "Int64Index([], dtype='int64')\n"
     ]
    }
   ],
   "source": [
    "print(dfList[0].loc[dfList[0]['key']=='Alle '].index)"
   ]
  },
  {
   "cell_type": "code",
   "execution_count": 132,
   "metadata": {},
   "outputs": [],
   "source": [
    "dfList_ = dfList.copy()"
   ]
  },
  {
   "cell_type": "code",
   "execution_count": 157,
   "metadata": {},
   "outputs": [
    {
     "name": "stdout",
     "output_type": "stream",
     "text": [
      "24 24\n",
      "'CLIENTE \n",
      "'Unit. Loc. \n",
      "'Operatore \n",
      "'Referente \n",
      "'CF Produttore \n",
      "'Telefono \n",
      "'Email Cliente \n",
      "'Data Richiesta \n",
      "'Orario richiesta \n",
      "'Email Produttore \n",
      "'ORA PARTENZA DA EUROCORPORATION: \n",
      "'ORA RIENTRO IN EUROCORPORATION: \n",
      "'Alle \n",
      "'ORA DI FINE: \n",
      "'Alle \n",
      "'ORA ARRIVO: \n",
      "'ORA PARTENZA: \n",
      "'ORA ARRIVO: \n",
      "'SI \n",
      "'NO \n",
      "'FIRMA PER PRESA VISIONE \n",
      "'ADR \n",
      "'Classe Pericolo: \n",
      "'Destino: \n",
      "'Confezionamento: \n",
      "'Destinazione: \n"
     ]
    }
   ],
   "source": [
    "keyRowVals = dfList[4]['key'].values\n",
    "print(len(set(keyRowVals)), len(set(result)))\n",
    "for i in keyRowVals:\n",
    "    print(i)\n",
    "    if i not in result:\n",
    "        print('NO')"
   ]
  },
  {
   "cell_type": "code",
   "execution_count": 148,
   "metadata": {},
   "outputs": [
    {
     "name": "stdout",
     "output_type": "stream",
     "text": [
      "Requirement already satisfied: tqdm in c:\\programdata\\anaconda3\\lib\\site-packages (4.62.3)\n",
      "Requirement already satisfied: colorama in c:\\programdata\\anaconda3\\lib\\site-packages (from tqdm) (0.4.4)\n"
     ]
    },
    {
     "name": "stderr",
     "output_type": "stream",
     "text": [
      "WARNING: Ignoring invalid distribution - (c:\\programdata\\anaconda3\\lib\\site-packages)\n",
      "WARNING: Ignoring invalid distribution -equests (c:\\programdata\\anaconda3\\lib\\site-packages)\n",
      "WARNING: Ignoring invalid distribution - (c:\\programdata\\anaconda3\\lib\\site-packages)\n",
      "WARNING: Ignoring invalid distribution -equests (c:\\programdata\\anaconda3\\lib\\site-packages)\n",
      "WARNING: Ignoring invalid distribution - (c:\\programdata\\anaconda3\\lib\\site-packages)\n",
      "WARNING: Ignoring invalid distribution -equests (c:\\programdata\\anaconda3\\lib\\site-packages)\n",
      "WARNING: Ignoring invalid distribution - (c:\\programdata\\anaconda3\\lib\\site-packages)\n",
      "WARNING: Ignoring invalid distribution -equests (c:\\programdata\\anaconda3\\lib\\site-packages)\n",
      "WARNING: Ignoring invalid distribution - (c:\\programdata\\anaconda3\\lib\\site-packages)\n",
      "WARNING: Ignoring invalid distribution -equests (c:\\programdata\\anaconda3\\lib\\site-packages)\n",
      "WARNING: Ignoring invalid distribution - (c:\\programdata\\anaconda3\\lib\\site-packages)\n",
      "WARNING: Ignoring invalid distribution -equests (c:\\programdata\\anaconda3\\lib\\site-packages)\n"
     ]
    }
   ],
   "source": [
    "!pip install tqdm \n",
    "from tqdm import tqdm"
   ]
  },
  {
   "cell_type": "code",
   "execution_count": 158,
   "metadata": {},
   "outputs": [
    {
     "name": "stderr",
     "output_type": "stream",
     "text": [
      "100%|██████████| 26/26 [00:00<?, ?it/s]\n",
      "100%|██████████| 35/35 [00:00<?, ?it/s]\n",
      "100%|██████████| 51/51 [00:00<?, ?it/s]\n",
      "100%|██████████| 47/47 [00:00<?, ?it/s]\n",
      "100%|██████████| 26/26 [00:00<?, ?it/s]\n",
      "100%|██████████| 26/26 [00:00<00:00, 25884.62it/s]\n",
      "100%|██████████| 6/6 [00:00<00:00, 187.54it/s]\n"
     ]
    }
   ],
   "source": [
    "for df in tqdm(dfList):\n",
    "    keyRowVals = df['key'].values\n",
    "    if set(result).issubset(keyRowVals) == True:\n",
    "        # print('Entered here')\n",
    "        for i in tqdm(keyRowVals):\n",
    "            # print('Entered keyRow values', i)\n",
    "            if i not in result:\n",
    "                print('foundOne')\n",
    "                df.drop(df.loc[df['key']==i].index, inplace = True)\n",
    "    "
   ]
  },
  {
   "cell_type": "code",
   "execution_count": 163,
   "metadata": {},
   "outputs": [],
   "source": [
    "for i in range(len(dfList)):\n",
    "    dfList[i] = dfList[i].drop_duplicates(subset=['key'],keep='first')\n",
    "    dfList[i].sort_values(by = ['key'])"
   ]
  },
  {
   "cell_type": "code",
   "execution_count": 165,
   "metadata": {},
   "outputs": [
    {
     "name": "stdout",
     "output_type": "stream",
     "text": [
      "(24, 2)\n",
      "+---+----------------+-----------------------------------------+\n",
      "| 1 | 'CLIENTE       | 'SPAZIO SOC COOP                        |\n",
      "| 2 | 'Unit. Loc.    | 'Via S. Agostino, 2 51100 PISTOIA (PT)  |\n",
      "| 3 | 'Operatore     | 'Francesca Buffolino - Mob. 327 6613420 |\n",
      "| 4 | 'Referente     | 'MICHELE                                |\n",
      "| 5 | 'CF Produttore | '06721950480                            |\n",
      "+---+----------------+-----------------------------------------+\n",
      "(24, 2)\n",
      "+---+----------------+------------------------------------------------+\n",
      "| 2 | 'CLIENTE       | 'SISEA SRL                                     |\n",
      "| 3 | 'Unit. Loc.    | 'FIRENZE - Via del Romito 7 50134 FIRENZE (FI) |\n",
      "| 4 | 'Operatore     | 'Guergana Stoyanova - Mob. 346 8704488         |\n",
      "| 5 | 'Referente     | 'DONATO                                        |\n",
      "| 6 | 'CF Produttore | '07984290010                                   |\n",
      "+---+----------------+------------------------------------------------+\n",
      "(24, 2)\n",
      "+---+-------------------+---------------------------------------+\n",
      "| 1 | 'ADR              | 'NOT_SELECTED                         |\n",
      "| 3 | 'CLIENTE          | '2G2 SRL                              |\n",
      "| 4 | 'Unit. Loc.       | 'VIA VOLTA 29 50041 CALENZANO (FI)    |\n",
      "| 5 | 'Operatore        | 'Tommaso Orlandini - Mob. 393 8849987 |\n",
      "| 6 | 'Classe Pericolo: | 'HP5                                  |\n",
      "+---+-------------------+---------------------------------------+\n",
      "(24, 2)\n",
      "+---+-------------------+------------------------------------------------+\n",
      "| 1 | 'CLIENTE          | 'SISEA SRL                                     |\n",
      "| 2 | 'Destinazione:    | 'ECOVIP                                        |\n",
      "| 3 | 'Unit. Loc.       | 'FIRENZE - Via del Romito 7 50134 FIRENZE (FI) |\n",
      "| 4 | 'Operatore        | 'Guergana Stoyanova - Mob. 346 8704488         |\n",
      "| 6 | 'Classe Pericolo: | 'HP 4-5-14                                     |\n",
      "+---+-------------------+------------------------------------------------+\n",
      "(24, 2)\n",
      "+---+----------------+------------------------------------------------+\n",
      "| 1 | 'CLIENTE       | 'SISEA SRL                                     |\n",
      "| 2 | 'Unit. Loc.    | 'FIRENZE - Via del Romito 7 50134 FIRENZE (FI) |\n",
      "| 3 | 'Operatore     | 'Guergana Stoyanova - Mob. 346 8704488         |\n",
      "| 4 | 'Referente     | 'Luca Spadi                                    |\n",
      "| 5 | 'CF Produttore | '07984290010                                   |\n",
      "+---+----------------+------------------------------------------------+\n",
      "(24, 2)\n",
      "+---+----------------+-------------------------------------------------------------------------------------------------------+\n",
      "| 2 | 'CLIENTE       | 'AFE IMPEX SRL                                                                                        |\n",
      "| 3 | 'Unit. Loc.    | 'PISTOIA - c/o AGRIBIOS SOC COOP AGRIC. in Via Buraccia e Pacinotta13// 51100 CHIESINA MONTALESE (PT) |\n",
      "| 4 | 'Operatore     | 'Guergana Stoyanova - Mob. 346 8704488                                                                |\n",
      "| 5 | 'Referente     | 'Paolo Fedi                                                                                           |\n",
      "| 6 | 'CF Produttore | '02212820464                                                                                          |\n",
      "+---+----------------+-------------------------------------------------------------------------------------------------------+\n"
     ]
    }
   ],
   "source": [
    "for df in dfList:\n",
    "    print(df.shape)\n",
    "    print(tabulate(df.head(), tablefmt='psql'))"
   ]
  },
  {
   "cell_type": "markdown",
   "metadata": {},
   "source": [
    "Merging all the dataframes into one now"
   ]
  },
  {
   "cell_type": "code",
   "execution_count": 169,
   "metadata": {},
   "outputs": [
    {
     "data": {
      "text/html": [
       "<div>\n",
       "<style scoped>\n",
       "    .dataframe tbody tr th:only-of-type {\n",
       "        vertical-align: middle;\n",
       "    }\n",
       "\n",
       "    .dataframe tbody tr th {\n",
       "        vertical-align: top;\n",
       "    }\n",
       "\n",
       "    .dataframe thead th {\n",
       "        text-align: right;\n",
       "    }\n",
       "</style>\n",
       "<table border=\"1\" class=\"dataframe\">\n",
       "  <thead>\n",
       "    <tr style=\"text-align: right;\">\n",
       "      <th></th>\n",
       "      <th>'Orario richiesta</th>\n",
       "      <th>'ORA PARTENZA:</th>\n",
       "      <th>'ORA DI FINE:</th>\n",
       "      <th>'SI</th>\n",
       "      <th>'Destino:</th>\n",
       "      <th>'ADR</th>\n",
       "      <th>'CF Produttore</th>\n",
       "      <th>'Destinazione:</th>\n",
       "      <th>'Referente</th>\n",
       "      <th>'Operatore</th>\n",
       "      <th>...</th>\n",
       "      <th>'ORA PARTENZA DA EUROCORPORATION:</th>\n",
       "      <th>'Confezionamento:</th>\n",
       "      <th>'CLIENTE</th>\n",
       "      <th>'FIRMA PER PRESA VISIONE</th>\n",
       "      <th>'Telefono</th>\n",
       "      <th>'NO</th>\n",
       "      <th>'Alle</th>\n",
       "      <th>'ORA RIENTRO IN EUROCORPORATION:</th>\n",
       "      <th>'Data Richiesta</th>\n",
       "      <th>'ORA ARRIVO:</th>\n",
       "    </tr>\n",
       "  </thead>\n",
       "  <tbody>\n",
       "  </tbody>\n",
       "</table>\n",
       "<p>0 rows × 24 columns</p>\n",
       "</div>"
      ],
      "text/plain": [
       "Empty DataFrame\n",
       "Columns: ['Orario richiesta , 'ORA PARTENZA: , 'ORA DI FINE: , 'SI , 'Destino: , 'ADR , 'CF Produttore , 'Destinazione: , 'Referente , 'Operatore , 'Classe Pericolo: , 'Unit. Loc. , 'Email Cliente , 'Email Produttore , 'ORA PARTENZA DA EUROCORPORATION: , 'Confezionamento: , 'CLIENTE , 'FIRMA PER PRESA VISIONE , 'Telefono , 'NO , 'Alle , 'ORA RIENTRO IN EUROCORPORATION: , 'Data Richiesta , 'ORA ARRIVO: ]\n",
       "Index: []\n",
       "\n",
       "[0 rows x 24 columns]"
      ]
     },
     "execution_count": 169,
     "metadata": {},
     "output_type": "execute_result"
    }
   ],
   "source": [
    "dfmerge = pd.DataFrame(columns=result)\n",
    "dfmerge.head()"
   ]
  },
  {
   "cell_type": "code",
   "execution_count": 173,
   "metadata": {},
   "outputs": [
    {
     "data": {
      "text/plain": [
       "Index(['key', 'value'], dtype='object')"
      ]
     },
     "execution_count": 173,
     "metadata": {},
     "output_type": "execute_result"
    }
   ],
   "source": [
    "dfList[0].columns"
   ]
  },
  {
   "cell_type": "code",
   "execution_count": 170,
   "metadata": {},
   "outputs": [
    {
     "name": "stdout",
     "output_type": "stream",
     "text": [
      "'CLIENTE \n",
      "'Unit. Loc. \n",
      "'Operatore \n",
      "'Referente \n",
      "'CF Produttore \n",
      "'Telefono \n",
      "'Email Cliente \n",
      "'Data Richiesta \n",
      "'Orario richiesta \n",
      "'ORA PARTENZA DA EUROCORPORATION: \n",
      "'Email Produttore \n",
      "'ORA RIENTRO IN EUROCORPORATION: \n",
      "'Alle \n",
      "'ORA DI FINE: \n",
      "'ORA ARRIVO: \n",
      "'ORA PARTENZA: \n",
      "'SI \n",
      "'NO \n",
      "'FIRMA PER PRESA VISIONE \n",
      "'ADR \n",
      "'Classe Pericolo: \n",
      "'Destino: \n",
      "'Confezionamento: \n",
      "'Destinazione: \n",
      "'CLIENTE \n",
      "'Unit. Loc. \n",
      "'Operatore \n",
      "'Referente \n",
      "'CF Produttore \n",
      "'Telefono \n",
      "'Email Cliente \n",
      "'Data Richiesta \n",
      "'Orario richiesta \n",
      "'ORA PARTENZA DA EUROCORPORATION: \n",
      "'Email Produttore \n",
      "'ORA RIENTRO IN EUROCORPORATION: \n",
      "'Alle \n",
      "'ORA DI FINE: \n",
      "'ORA ARRIVO: \n",
      "'ORA PARTENZA: \n",
      "'SI \n",
      "'NO \n",
      "'FIRMA PER PRESA VISIONE \n",
      "'ADR \n",
      "'Classe Pericolo: \n",
      "'Destino: \n",
      "'Confezionamento: \n",
      "'Destinazione: \n",
      "'ADR \n",
      "'CLIENTE \n",
      "'Unit. Loc. \n",
      "'Operatore \n",
      "'Classe Pericolo: \n",
      "'Destino: \n",
      "'Confezionamento: \n",
      "'Referente \n",
      "'CF Produttore \n",
      "'Destinazione: \n",
      "'Telefono \n",
      "'Email Cliente \n",
      "'Data Richiesta \n",
      "'Orario richiesta \n",
      "'Email Produttore \n",
      "'Alle \n",
      "'ORA DI FINE: \n",
      "'ORA PARTENZA DA EUROCORPORATION: \n",
      "'ORA RIENTRO IN EUROCORPORATION: \n",
      "'ORA ARRIVO: \n",
      "'ORA PARTENZA: \n",
      "'SI \n",
      "'NO \n",
      "'FIRMA PER PRESA VISIONE \n",
      "'CLIENTE \n",
      "'Destinazione: \n",
      "'Unit. Loc. \n",
      "'Operatore \n",
      "'Classe Pericolo: \n",
      "'Referente \n",
      "'Destino: \n",
      "'CF Produttore \n",
      "'Confezionamento: \n",
      "'Telefono \n",
      "'Email Cliente \n",
      "'Data Richiesta \n",
      "'Orario richiesta \n",
      "'Email Produttore \n",
      "'Alle \n",
      "'ADR \n",
      "'ORA PARTENZA DA EUROCORPORATION: \n",
      "'ORA RIENTRO IN EUROCORPORATION: \n",
      "'ORA DI FINE: \n",
      "'ORA ARRIVO: \n",
      "'ORA PARTENZA: \n",
      "'SI \n",
      "'NO \n",
      "'FIRMA PER PRESA VISIONE \n",
      "'CLIENTE \n",
      "'Unit. Loc. \n",
      "'Operatore \n",
      "'Referente \n",
      "'CF Produttore \n",
      "'Telefono \n",
      "'Email Cliente \n",
      "'Data Richiesta \n",
      "'Orario richiesta \n",
      "'Email Produttore \n",
      "'ORA PARTENZA DA EUROCORPORATION: \n",
      "'ORA RIENTRO IN EUROCORPORATION: \n",
      "'Alle \n",
      "'ORA DI FINE: \n",
      "'ORA ARRIVO: \n",
      "'ORA PARTENZA: \n",
      "'SI \n",
      "'NO \n",
      "'FIRMA PER PRESA VISIONE \n",
      "'ADR \n",
      "'Classe Pericolo: \n",
      "'Destino: \n",
      "'Confezionamento: \n",
      "'Destinazione: \n",
      "'CLIENTE \n",
      "'Unit. Loc. \n",
      "'Operatore \n",
      "'Referente \n",
      "'CF Produttore \n",
      "'Telefono \n",
      "'Email Cliente \n",
      "'Data Richiesta \n",
      "'Orario richiesta \n",
      "'ORA PARTENZA DA EUROCORPORATION: \n",
      "'Email Produttore \n",
      "'ORA RIENTRO IN EUROCORPORATION: \n",
      "'Alle \n",
      "'ORA DI FINE: \n",
      "'ORA ARRIVO: \n",
      "'ORA PARTENZA: \n",
      "'SI \n",
      "'NO \n",
      "'FIRMA PER PRESA VISIONE \n",
      "'ADR \n",
      "'Classe Pericolo: \n",
      "'Destino: \n",
      "'Confezionamento: \n",
      "'Destinazione: \n"
     ]
    }
   ],
   "source": [
    "pd.merge(dfList[0], dfList[1], dfList[2], dfList[3], dfList[4], dfList[5], on='val')"
   ]
  }
 ],
 "metadata": {
  "interpreter": {
   "hash": "ad2bdc8ecc057115af97d19610ffacc2b4e99fae6737bb82f5d7fb13d2f2c186"
  },
  "kernelspec": {
   "display_name": "Python 3.9.7 ('base')",
   "language": "python",
   "name": "python3"
  },
  "language_info": {
   "codemirror_mode": {
    "name": "ipython",
    "version": 3
   },
   "file_extension": ".py",
   "mimetype": "text/x-python",
   "name": "python",
   "nbconvert_exporter": "python",
   "pygments_lexer": "ipython3",
   "version": "3.9.7"
  },
  "orig_nbformat": 4
 },
 "nbformat": 4,
 "nbformat_minor": 2
}
